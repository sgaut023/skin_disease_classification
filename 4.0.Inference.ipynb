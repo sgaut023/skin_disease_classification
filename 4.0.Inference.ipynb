{
 "cells": [
  {
   "cell_type": "markdown",
   "id": "3d579a2b-473b-4da0-abf0-9d26280eb679",
   "metadata": {},
   "source": [
    "# Inference\n",
    "\n",
    "In this notebook, we used to trained model to inferen the class on unseen images."
   ]
  },
  {
   "cell_type": "markdown",
   "id": "c38de511-9cee-4431-ac19-bdefc9468c39",
   "metadata": {},
   "source": [
    "## 1. "
   ]
  }
 ],
 "metadata": {
  "kernelspec": {
   "display_name": "Python [conda env:.conda-oro_health] *",
   "language": "python",
   "name": "conda-env-.conda-oro_health-py"
  },
  "language_info": {
   "codemirror_mode": {
    "name": "ipython",
    "version": 3
   },
   "file_extension": ".py",
   "mimetype": "text/x-python",
   "name": "python",
   "nbconvert_exporter": "python",
   "pygments_lexer": "ipython3",
   "version": "3.7.0"
  }
 },
 "nbformat": 4,
 "nbformat_minor": 5
}
