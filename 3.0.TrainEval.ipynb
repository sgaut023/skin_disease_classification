{
 "cells": [
  {
   "cell_type": "markdown",
   "id": "cd12d09a-7a0c-4bf9-85c6-f0a6ad3f9abb",
   "metadata": {},
   "source": [
    "# Training and Saving Final Model\n",
    "\n",
    "In the second notebook, we evaluated 4 different architectures.\n",
    "\n",
    "The architecture that yields the highest macro average recall over the different folds is the big tranfer model from this [paper](https://arxiv.org/abs/1912.11370).\n",
    "\n",
    "In this notebook, we train, evalaute and save the big tranfer model using the best combination of hyperparameters found in the second notebook.\n",
    "\n"
   ]
  },
  {
   "cell_type": "code",
   "execution_count": 1,
   "id": "8df28cd3-5c03-4194-b901-774e3c062d3f",
   "metadata": {},
   "outputs": [],
   "source": [
    "from sklearn.model_selection import StratifiedShuffleSplit\n",
    "from pathlib import Path \n",
    "from torchvision import datasets\n",
    "import sys\n",
    "\n",
    "sys.path.append(str(Path.cwd().parent)+'/kymatio_mod')\n",
    "sys.path.append(str(Path.cwd().parent))\n",
    "from utils import *"
   ]
  },
  {
   "cell_type": "markdown",
   "id": "0ccc1581-b11e-4ab7-a413-c17a5bf7501f",
   "metadata": {},
   "source": [
    "## 1. Hyperparameters\n",
    "\n",
    "The best combination of hyperparameters is (see image below):\n",
    "\n",
    "-**number of epochs**:\n",
    "\n",
    "-**batch_size**:\n",
    "\n",
    "-**learning rate**: "
   ]
  },
  {
   "cell_type": "markdown",
   "id": "8bc52511-a317-47f5-8bf0-07000c4a2f1e",
   "metadata": {},
   "source": [
    "## 2. Split Dataset\n",
    "\n",
    "\n"
   ]
  },
  {
   "cell_type": "code",
   "execution_count": 6,
   "id": "95022ace-2580-479e-becc-b9f9784452cf",
   "metadata": {},
   "outputs": [],
   "source": [
    "random_state=42\n",
    "setAllSeeds(42)\n",
    "workers = 4\n",
    "batch_size=16\n",
    "name=\n",
    "num_epochs=\n",
    "device = torch.device(\"cuda\" if torch.cuda.is_available() else \"cpu\")"
   ]
  },
  {
   "cell_type": "code",
   "execution_count": 21,
   "id": "f1eed92b-5363-4de2-b166-3e46a8d758bf",
   "metadata": {},
   "outputs": [],
   "source": [
    "# Create Dataset\n",
    "dataset = datasets.ImageFolder(root='data_3class_skin_diseases/', transform=augmentationFactory('augment'))\n",
    "sss = StratifiedShuffleSplit(n_splits=2, test_size=0.8, random_state=random_state)\n",
    "indexes, _ = sss.split(dataset, dataset.targets)"
   ]
  },
  {
   "cell_type": "markdown",
   "id": "d4cb0ef1-7091-453d-8a41-5f9d2c7d81d7",
   "metadata": {},
   "source": [
    "## 3. Train Model  + NVIDIA\n",
    "\n"
   ]
  },
  {
   "cell_type": "code",
   "execution_count": null,
   "id": "77d5235a-ad2a-4dac-b827-eebb8e249a4b",
   "metadata": {},
   "outputs": [],
   "source": [
    "network = get_model(name)\n",
    "network.to(device)"
   ]
  },
  {
   "cell_type": "code",
   "execution_count": null,
   "id": "bebac97a-37f6-4963-b041-027a3b841478",
   "metadata": {},
   "outputs": [],
   "source": [
    "trainloader, testloader, train_subsampler =get_loaders(dataset, indexes[1], test_ids[0], batch_size)\n",
    "loss_function = get_loss_function(dataset, trainloader, train_subsampler.indices, device=device)\n",
    "optimizer = torch.optim.SGD(network.parameters(), lr=lr)"
   ]
  },
  {
   "cell_type": "code",
   "execution_count": null,
   "id": "7264c9ba-68fe-4115-bcba-5d6d584ab57d",
   "metadata": {},
   "outputs": [],
   "source": [
    "for epoch in range(0, num_epochs):\n",
    "    current_loss = 0.0\n",
    "    for i, data in enumerate(trainloader, 0):\n",
    "        inputs, targets = data\n",
    "        inputs = inputs.to(device)\n",
    "        targets = targets.to(device)\n",
    "        optimizer.zero_grad()\n",
    "\n",
    "        outputs = network(inputs)\n",
    "        loss = loss_function(outputs, targets)  \n",
    "        loss.backward()   \n",
    "        optimizer.step()\n",
    "\n",
    "        # Print statistics\n",
    "        current_loss += loss.item()\n",
    "train_loss.append(current_loss/(i+1))\n",
    "loss, y_pred, y_true = evaluate_model(network,testloader, loss_function)\n",
    "test_loss.append(loss.item())\n",
    "print(f'Epoch {epoch+1}-- Train Loss:{current_loss/(i+1)}, Test Loss: {loss}')\n",
    "\n",
    "visualize_loss(train_loss, test_loss) \n",
    "get_confusion_matrix(y_true, y_pred)"
   ]
  },
  {
   "cell_type": "markdown",
   "id": "5518b1ce-3bae-4fec-b711-5f1ed134f809",
   "metadata": {},
   "source": [
    "## 4. Evaluate Model"
   ]
  },
  {
   "cell_type": "code",
   "execution_count": 24,
   "id": "88bfa959-fda3-491d-be56-6e33e3316614",
   "metadata": {},
   "outputs": [
    {
     "name": "stdout",
     "output_type": "stream",
     "text": [
      "Starting testing\n"
     ]
    },
    {
     "ename": "NameError",
     "evalue": "name 'network' is not defined",
     "output_type": "error",
     "traceback": [
      "\u001b[0;31m---------------------------------------------------------------------------\u001b[0m",
      "\u001b[0;31mNameError\u001b[0m                                 Traceback (most recent call last)",
      "\u001b[0;32m/tmp/ipykernel_20900/2619287865.py\u001b[0m in \u001b[0;36m<module>\u001b[0;34m\u001b[0m\n\u001b[1;32m      1\u001b[0m \u001b[0mprint\u001b[0m\u001b[0;34m(\u001b[0m\u001b[0;34m'Starting testing'\u001b[0m\u001b[0;34m)\u001b[0m\u001b[0;34m\u001b[0m\u001b[0m\n\u001b[0;32m----> 2\u001b[0;31m \u001b[0mloss\u001b[0m\u001b[0;34m,\u001b[0m \u001b[0my_pred\u001b[0m\u001b[0;34m,\u001b[0m \u001b[0my_true\u001b[0m \u001b[0;34m=\u001b[0m \u001b[0mevaluate_model\u001b[0m\u001b[0;34m(\u001b[0m\u001b[0mnetwork\u001b[0m\u001b[0;34m,\u001b[0m\u001b[0mtestloader\u001b[0m\u001b[0;34m,\u001b[0m \u001b[0mloss_function\u001b[0m\u001b[0;34m)\u001b[0m\u001b[0;34m\u001b[0m\u001b[0m\n\u001b[0m\u001b[1;32m      3\u001b[0m \u001b[0msave_results\u001b[0m\u001b[0;34m(\u001b[0m\u001b[0mresults\u001b[0m\u001b[0;34m,\u001b[0m \u001b[0mfold\u001b[0m\u001b[0;34m,\u001b[0m \u001b[0my_pred\u001b[0m\u001b[0;34m,\u001b[0m \u001b[0my_true\u001b[0m\u001b[0;34m)\u001b[0m\u001b[0;34m\u001b[0m\u001b[0m\n",
      "\u001b[0;31mNameError\u001b[0m: name 'network' is not defined"
     ]
    }
   ],
   "source": [
    "print('Starting testing')\n",
    "loss, y_pred, y_true = evaluate_model(network,testloader, loss_function)\n",
    "save_results(results, fold, y_pred, y_true)"
   ]
  },
  {
   "cell_type": "markdown",
   "id": "4812e082-e1af-4ad3-8c1f-023d6260bc2d",
   "metadata": {},
   "source": [
    "## 5. Save Model"
   ]
  },
  {
   "cell_type": "code",
   "execution_count": null,
   "id": "554cee62-bcf7-4b48-9055-923adfa1a1de",
   "metadata": {},
   "outputs": [],
   "source": [
    "torch.save(network.state_dict(), 'trained_models.pth)"
   ]
  },
  {
   "cell_type": "markdown",
   "id": "9c07bc6b-18af-4abe-9837-0fd62ec1bcc5",
   "metadata": {},
   "source": [
    "## 6. Visualize Misclassified Images\n"
   ]
  },
  {
   "cell_type": "code",
   "execution_count": null,
   "id": "e85d16cf-a644-4f1f-9b0d-1fd5fc3b80ae",
   "metadata": {},
   "outputs": [],
   "source": []
  }
 ],
 "metadata": {
  "kernelspec": {
   "display_name": "Python [conda env:.conda-oro_health] *",
   "language": "python",
   "name": "conda-env-.conda-oro_health-py"
  },
  "language_info": {
   "codemirror_mode": {
    "name": "ipython",
    "version": 3
   },
   "file_extension": ".py",
   "mimetype": "text/x-python",
   "name": "python",
   "nbconvert_exporter": "python",
   "pygments_lexer": "ipython3",
   "version": "3.7.0"
  }
 },
 "nbformat": 4,
 "nbformat_minor": 5
}
