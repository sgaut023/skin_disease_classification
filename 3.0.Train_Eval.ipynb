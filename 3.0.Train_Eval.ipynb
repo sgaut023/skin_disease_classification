{
 "cells": [
  {
   "cell_type": "code",
   "execution_count": null,
   "id": "eff040db-da40-4789-a5bd-4226960bfe91",
   "metadata": {},
   "outputs": [],
   "source": []
  }
 ],
 "metadata": {
  "kernelspec": {
   "display_name": "Python [conda env:.conda-oro]",
   "language": "python",
   "name": "conda-env-.conda-oro-py"
  },
  "language_info": {
   "codemirror_mode": {
    "name": "ipython",
    "version": 3
   },
   "file_extension": ".py",
   "mimetype": "text/x-python",
   "name": "python",
   "nbconvert_exporter": "python",
   "pygments_lexer": "ipython3",
   "version": "3.7.0"
  }
 },
 "nbformat": 4,
 "nbformat_minor": 5
}
